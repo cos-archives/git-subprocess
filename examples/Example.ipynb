{
 "metadata": {
  "name": ""
 },
 "nbformat": 3,
 "nbformat_minor": 0,
 "worksheets": [
  {
   "cells": [
    {
     "cell_type": "code",
     "collapsed": false,
     "input": [
      "import sys, os\n",
      "sys.path.append(os.path.join(os.path.abspath(os.getcwd()), os.pardir))\n",
      "\n",
      "from git_subprocess import Repository\n",
      "from pprint import pprint"
     ],
     "language": "python",
     "metadata": {},
     "outputs": [],
     "prompt_number": 15
    },
    {
     "cell_type": "code",
     "collapsed": false,
     "input": [
      "author = 'Lyndsy Simon <lyndsy@cos.io>'\n",
      "\n",
      "repo_path = os.path.join(os.getcwd(), 'my_repo')\n",
      "\n",
      "repo = Repository(repo_path)\n",
      "repo.init()\n",
      "\n",
      "os.chdir(repo_path)"
     ],
     "language": "python",
     "metadata": {},
     "outputs": [],
     "prompt_number": 16
    },
    {
     "cell_type": "code",
     "collapsed": false,
     "input": [
      "with open('foo.txt', 'w') as f:\n",
      "    f.write('This is the first revision of a file')\n",
      "\n",
      "repo.add_file('foo.txt', author, 'first commit')\n",
      "\n",
      "with open('foo.txt', 'w') as f:\n",
      "    f.write('This is the second revision of a file')\n",
      "\n",
      "repo.add_file('foo.txt', author, 'second commit')\n",
      "\n",
      "with open('foo.txt', 'w') as f:\n",
      "    f.write('This is the third revision of a file')\n",
      "\n",
      "repo.add_file('foo.txt', author, 'third commit')"
     ],
     "language": "python",
     "metadata": {},
     "outputs": [],
     "prompt_number": 17
    },
    {
     "cell_type": "code",
     "collapsed": false,
     "input": [
      "# The file can be accessed directly from the repository now:\n",
      "my_file = repo.get_file('foo.txt')"
     ],
     "language": "python",
     "metadata": {},
     "outputs": [],
     "prompt_number": 18
    },
    {
     "cell_type": "code",
     "collapsed": false,
     "input": [
      "# The content of the file:\n",
      "print(my_file.content)"
     ],
     "language": "python",
     "metadata": {},
     "outputs": [
      {
       "output_type": "stream",
       "stream": "stdout",
       "text": [
        "This is the first revision of a file\n"
       ]
      }
     ],
     "prompt_number": 19
    },
    {
     "cell_type": "code",
     "collapsed": false,
     "input": [
      "# The author (most recent)\n",
      "print(my_file.author)"
     ],
     "language": "python",
     "metadata": {},
     "outputs": [
      {
       "output_type": "stream",
       "stream": "stdout",
       "text": [
        "Lyndsy Simon <lyndsy@cos.io>\n"
       ]
      }
     ],
     "prompt_number": 20
    },
    {
     "cell_type": "code",
     "collapsed": false,
     "input": [
      "# Version history\n",
      "pprint(my_file.versions)"
     ],
     "language": "python",
     "metadata": {},
     "outputs": [
      {
       "output_type": "stream",
       "stream": "stdout",
       "text": [
        "[<FileVersion(path=\"foo.txt\" sha=\"ad602b5\")>,\n",
        " <FileVersion(path=\"foo.txt\" sha=\"e1d6049\")>,\n",
        " <FileVersion(path=\"foo.txt\" sha=\"69f3ba7\")>]\n"
       ]
      }
     ],
     "prompt_number": 21
    },
    {
     "cell_type": "code",
     "collapsed": false,
     "input": [
      "# FileVersion objects are indexable and contain all of the functionality of a File, plus a bit more\n",
      "for i, version in enumerate(my_file.versions):\n",
      "    print(\"Revision: {}\".format(i))\n",
      "    print(\"Content: \\n{}\\n\".format(version.content))"
     ],
     "language": "python",
     "metadata": {},
     "outputs": [
      {
       "output_type": "stream",
       "stream": "stdout",
       "text": [
        "Revision: 0\n",
        "Content: \n",
        "This is the first revision of a file\n",
        "\n",
        "Revision: 1\n",
        "Content: \n",
        "This is the second revision of a file\n",
        "\n",
        "Revision: 2\n",
        "Content: \n",
        "This is the third revision of a file\n",
        "\n"
       ]
      }
     ],
     "prompt_number": 22
    },
    {
     "cell_type": "code",
     "collapsed": false,
     "input": [
      "# Both File and FileVersion object produce a git \"ref\" when cast as a string\n",
      "print(\"File: {}\".format(my_file))\n",
      "print(\"FileVersion: {}\".format(my_file.versions[0]))"
     ],
     "language": "python",
     "metadata": {},
     "outputs": [
      {
       "output_type": "stream",
       "stream": "stdout",
       "text": [
        "File: foo.txt\n",
        "FileVersion: 26daa70e1cd889657f5bdcdcb060b50adad602b5 -- foo.txt\n"
       ]
      }
     ],
     "prompt_number": 23
    },
    {
     "cell_type": "code",
     "collapsed": false,
     "input": [
      "# That means you can use them to shell out to git without modification\n",
      "import subprocess\n",
      "\n",
      "print(subprocess.check_output(('git', 'show', str(my_file))))"
     ],
     "language": "python",
     "metadata": {},
     "outputs": [
      {
       "output_type": "stream",
       "stream": "stdout",
       "text": [
        "commit 02a010c5e4371b2379a6d26b007edc7c269f3ba7\n",
        "Author: Lyndsy Simon <lyndsy@cos.io>\n",
        "Date:   Fri Aug 23 18:15:21 2013 -0400\n",
        "\n",
        "     \"third commit\"\n",
        "\n",
        "diff --git a/foo.txt b/foo.txt\n",
        "index 3860471..dcf9159 100644\n",
        "--- a/foo.txt\n",
        "+++ b/foo.txt\n",
        "@@ -1 +1 @@\n",
        "-This is the second revision of a file\n",
        "\\ No newline at end of file\n",
        "+This is the third revision of a file\n",
        "\\ No newline at end of file\n",
        "\n"
       ]
      }
     ],
     "prompt_number": 24
    },
    {
     "cell_type": "code",
     "collapsed": false,
     "input": [],
     "language": "python",
     "metadata": {},
     "outputs": [
      {
       "ename": "CalledProcessError",
       "evalue": "Command '('git', 'show', '26daa70e1cd889657f5bdcdcb060b50adad602b5 -- foo.txt')' returned non-zero exit status 128",
       "output_type": "pyerr",
       "traceback": [
        "\u001b[0;31m---------------------------------------------------------------------------\u001b[0m\n\u001b[0;31mCalledProcessError\u001b[0m                        Traceback (most recent call last)",
        "\u001b[0;32m<ipython-input-25-6c39f267abcd>\u001b[0m in \u001b[0;36m<module>\u001b[0;34m()\u001b[0m\n\u001b[0;32m----> 1\u001b[0;31m \u001b[0;32mprint\u001b[0m\u001b[0;34m(\u001b[0m\u001b[0msubprocess\u001b[0m\u001b[0;34m.\u001b[0m\u001b[0mcheck_output\u001b[0m\u001b[0;34m(\u001b[0m\u001b[0;34m(\u001b[0m\u001b[0;34m'git'\u001b[0m\u001b[0;34m,\u001b[0m \u001b[0;34m'show'\u001b[0m\u001b[0;34m,\u001b[0m \u001b[0mstr\u001b[0m\u001b[0;34m(\u001b[0m\u001b[0mmy_file\u001b[0m\u001b[0;34m.\u001b[0m\u001b[0mversions\u001b[0m\u001b[0;34m[\u001b[0m\u001b[0;36m0\u001b[0m\u001b[0;34m]\u001b[0m\u001b[0;34m)\u001b[0m\u001b[0;34m)\u001b[0m\u001b[0;34m)\u001b[0m\u001b[0;34m)\u001b[0m\u001b[0;34m\u001b[0m\u001b[0m\n\u001b[0m",
        "\u001b[0;32m/Users/lyndsysimon/.pythonz/pythons/CPython-2.7/lib/python2.7/subprocess.pyc\u001b[0m in \u001b[0;36mcheck_output\u001b[0;34m(*popenargs, **kwargs)\u001b[0m\n\u001b[1;32m    535\u001b[0m         \u001b[0;32mif\u001b[0m \u001b[0mcmd\u001b[0m \u001b[0;32mis\u001b[0m \u001b[0mNone\u001b[0m\u001b[0;34m:\u001b[0m\u001b[0;34m\u001b[0m\u001b[0m\n\u001b[1;32m    536\u001b[0m             \u001b[0mcmd\u001b[0m \u001b[0;34m=\u001b[0m \u001b[0mpopenargs\u001b[0m\u001b[0;34m[\u001b[0m\u001b[0;36m0\u001b[0m\u001b[0;34m]\u001b[0m\u001b[0;34m\u001b[0m\u001b[0m\n\u001b[0;32m--> 537\u001b[0;31m         \u001b[0;32mraise\u001b[0m \u001b[0mCalledProcessError\u001b[0m\u001b[0;34m(\u001b[0m\u001b[0mretcode\u001b[0m\u001b[0;34m,\u001b[0m \u001b[0mcmd\u001b[0m\u001b[0;34m,\u001b[0m \u001b[0moutput\u001b[0m\u001b[0;34m=\u001b[0m\u001b[0moutput\u001b[0m\u001b[0;34m)\u001b[0m\u001b[0;34m\u001b[0m\u001b[0m\n\u001b[0m\u001b[1;32m    538\u001b[0m     \u001b[0;32mreturn\u001b[0m \u001b[0moutput\u001b[0m\u001b[0;34m\u001b[0m\u001b[0m\n\u001b[1;32m    539\u001b[0m \u001b[0;34m\u001b[0m\u001b[0m\n",
        "\u001b[0;31mCalledProcessError\u001b[0m: Command '('git', 'show', '26daa70e1cd889657f5bdcdcb060b50adad602b5 -- foo.txt')' returned non-zero exit status 128"
       ]
      }
     ],
     "prompt_number": 25
    },
    {
     "cell_type": "code",
     "collapsed": false,
     "input": [],
     "language": "python",
     "metadata": {},
     "outputs": []
    }
   ],
   "metadata": {}
  }
 ]
}